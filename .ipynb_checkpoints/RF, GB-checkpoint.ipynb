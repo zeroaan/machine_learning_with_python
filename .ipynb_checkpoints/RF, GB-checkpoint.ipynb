{
 "cells": [
  {
   "cell_type": "markdown",
   "metadata": {},
   "source": [
    "## Random Forest(랜덤 포레스트 기법)\n",
    "\n",
    "랜덤 포레스트라는 특별한 머신러닝 알고리즘은 결정 트리의 수를 생성하고 투표 방식을 사용해 표적 레이블을 예측한다.\n",
    "이 알고리즘에는 여러 가지 결정 트리가 생성되어 숲을 이루므로 랜덤 포레스트라고 한다."
   ]
  },
  {
   "cell_type": "markdown",
   "metadata": {},
   "source": [
    "## Gradient Boosting(그레디언트 부스팅)\n",
    "\n",
    "그레디언트 부스팅 알고리즘도 머신러닝 알고리즘 앙상블 중 하나이다.\n",
    "이 알고리즘에는 기본 회귀 알고리즘을 사용해 모델을 학습한다.\n",
    "\n",
    "훈련을 마친 후에는 오차율을 계산할 뿐만 아니라 알고리즘이 제대로 수행되지 않는 데이터 점을 찾고 다음 반복에서는 오차를 도입한 데이터 점을 취해 더 나은 예측을 위해 모델을 다시 테스트하게 된다. \n",
    "\n",
    "알고리즘은 새로 생성된 모델뿐만 아니라 이미 생성된 모델을 사용해 데이터 점의 값을 예측한다."
   ]
  }
 ],
 "metadata": {
  "kernelspec": {
   "display_name": "Python 3",
   "language": "python",
   "name": "python3"
  },
  "language_info": {
   "codemirror_mode": {
    "name": "ipython",
    "version": 3
   },
   "file_extension": ".py",
   "mimetype": "text/x-python",
   "name": "python",
   "nbconvert_exporter": "python",
   "pygments_lexer": "ipython3",
   "version": "3.7.7"
  }
 },
 "nbformat": 4,
 "nbformat_minor": 4
}
