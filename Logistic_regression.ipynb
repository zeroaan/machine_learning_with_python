{
 "cells": [
  {
   "cell_type": "markdown",
   "metadata": {},
   "source": [
    "### 로지스틱 회귀"
   ]
  },
  {
   "cell_type": "markdown",
   "metadata": {},
   "source": [
    "선형 회귀분석은 종속변수가 연속형 변수일 때 사용하는 방법으로  -∞ ~ +∞ 사이의 값으로 결과가 나오게 되지만\n",
    "\n",
    "로지스틱 회귀분석은 종속변수가 범주형 변수일 때 사용한다.\n",
    "\n",
    "그렇기 때문에 결과값이 0 ~ 1 사이의 확률로 나오게 된다.\n",
    "\n",
    "<br>\n",
    "\n",
    "- 일반 선형 식<br>\n",
    "$ y = b_{0} + b_{1}x_{1} + b_{2}x_{2} + ... + b_{i}x_{i} $\n",
    "\n",
    "<br>\n",
    "\n",
    "여기서 y값이 다시 -∞ ~ +∞ 사이의 값을 갖을 수 있게 만들어 줘야 한다.\n",
    "\n",
    "#### Odds는 어떤 일이 일어날 확률(1이 될 확률 P)을 일어나지 않을 확률(1-P)로 나눈 것을 말한다.\n",
    "\n",
    "### $ Odds = \\frac {P} {1-P} $\n",
    "\n",
    "이렇게 하게 되면 확률(P)가 1에 가까워 질수록 Odds는 +∞ 에 가까워지고 확률이 0에 가까워 질수록 Odds는 0에 가까워진다.\n",
    "\n",
    "<br>\n",
    "\n",
    "하지만 아직 0 ~ +∞ 사이의 값이므로 Odds 값에 log를 씌워서 만들어준다.\n",
    "\n",
    "### $ log(Odds) = log(\\frac {P} {1-P}) $ \n",
    "\n",
    "이렇게 된다면 log(Odds) 값은 -∞ ~ +∞ 사이의 값을 가지게 된다.\n",
    "\n",
    "<br>\n",
    "\n",
    "$ log(\\frac {P} {1-P}) = b_{0} + b_{1}x_{1} + b_{2}x_{2} + ... + b_{i}x_{i} $\n",
    "\n",
    "<br>\n",
    "\n",
    "독립변수가 1개일 때 식을 정리해보면\n",
    "\n",
    "### $ log(\\frac {P} {1-P}) = ax + b $\n",
    "\n",
    "<br><br>\n",
    "\n",
    "양변에 e를 씌워준다.\n",
    "\n",
    "### $ \\frac {P} {1-P} =  e^{ax+b} $ \n",
    "\n",
    "<br><br>\n",
    "\n",
    "그리고 역수를 취한다.\n",
    "\n",
    "### $ \\frac {1-P} {P} = \\frac {1} {e^{ax+b}} $\n",
    "\n",
    "### $ \\frac {1} {P} - 1 = \\frac {1} {e^{ax+b}} $\n",
    "\n",
    "### $ \\frac {1} {P} = \\frac {1} {e^{ax+b}} + 1 $\n",
    "\n",
    "### $ \\frac {1} {P} = \\frac {1 + e^{ax+b}} {e^{ax+b}} $\n",
    "\n",
    "<br><br>\n",
    "\n",
    "다시 역수를 취한다.\n",
    "\n",
    "### $ P = \\frac {e^{ax+b}} {1 + e^{ax+b}} = \\frac {1} {1 + e^{-(ax+b)}}$"
   ]
  }
 ],
 "metadata": {
  "kernelspec": {
   "display_name": "Python 3",
   "language": "python",
   "name": "python3"
  },
  "language_info": {
   "codemirror_mode": {
    "name": "ipython",
    "version": 3
   },
   "file_extension": ".py",
   "mimetype": "text/x-python",
   "name": "python",
   "nbconvert_exporter": "python",
   "pygments_lexer": "ipython3",
   "version": "3.7.7"
  }
 },
 "nbformat": 4,
 "nbformat_minor": 4
}
